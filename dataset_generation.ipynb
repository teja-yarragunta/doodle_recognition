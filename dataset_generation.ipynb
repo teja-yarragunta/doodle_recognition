{
 "cells": [
  {
   "cell_type": "code",
   "execution_count": 10,
   "id": "7568e60c-13ae-4a5e-aff9-0991f014d5bc",
   "metadata": {},
   "outputs": [],
   "source": [
    "import os\n",
    "import numpy as np\n",
    "from PIL import Image\n",
    "\n",
    "# Paths\n",
    "train_path = \"dataset/train/sheep/\"\n",
    "test_path = \"dataset/test/sheep/\"\n",
    "\n",
    "os.makedirs(train_path, exist_ok=True)\n",
    "os.makedirs(test_path, exist_ok=True)\n",
    "\n",
    "# Load data\n",
    "data = np.load(\"raw/sheep.npy\")\n",
    "data = data[0:10000, :]\n",
    "\n",
    "# Save images\n",
    "for i in range(0, 10000):\n",
    "    x = np.reshape(data[i], (28, 28))  \n",
    "    img = Image.fromarray(x)\n",
    "    img = img.convert('L')\n",
    "    if i < 8000: \n",
    "        img.save(train_path + str(i) + \".png\")\n",
    "    else: \n",
    "        img.save(test_path + str(i - 8000) + \".png\")\n"
   ]
  },
  {
   "cell_type": "code",
   "execution_count": null,
   "id": "03593f55-1d01-441b-a125-b76eb3706949",
   "metadata": {},
   "outputs": [],
   "source": []
  }
 ],
 "metadata": {
  "kernelspec": {
   "display_name": "Python 3 (ipykernel)",
   "language": "python",
   "name": "python3"
  },
  "language_info": {
   "codemirror_mode": {
    "name": "ipython",
    "version": 3
   },
   "file_extension": ".py",
   "mimetype": "text/x-python",
   "name": "python",
   "nbconvert_exporter": "python",
   "pygments_lexer": "ipython3",
   "version": "3.12.6"
  }
 },
 "nbformat": 4,
 "nbformat_minor": 5
}
